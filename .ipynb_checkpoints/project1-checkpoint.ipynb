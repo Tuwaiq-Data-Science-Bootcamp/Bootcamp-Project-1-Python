{
 "cells": [
  {
   "cell_type": "markdown",
   "id": "c3eeea66",
   "metadata": {},
   "source": [
    "- Use at least 3 different data types. [Done]\n",
    "- Use lists or dictionaries or tuples or sets. [Done]\n",
    "- Use loops. [Done]\n",
    "- Use functions that return an output.\n",
    "- Use conditions. [Done]\n",
    "- Use a Lambda function."
   ]
  },
  {
   "cell_type": "code",
   "execution_count": 36,
   "id": "54c166f5",
   "metadata": {},
   "outputs": [
    {
     "name": "stdout",
     "output_type": "stream",
     "text": [
      "What Length You Want For Your Password? 10\n"
     ]
    }
   ],
   "source": [
    "while True:\n",
    "    passLen= input(\"What Length You Want For Your Password? \")\n",
    "    if not passLen.isdigit():\n",
    "        print('Please Only Enter A Numbers')\n",
    "    elif int(passLen) <6:\n",
    "        print('The Password Length Should be More Than 6 Characters')\n",
    "    else:\n",
    "        break\n",
    "passLen=int(passLen)"
   ]
  },
  {
   "cell_type": "code",
   "execution_count": 37,
   "id": "c8592e30",
   "metadata": {},
   "outputs": [],
   "source": [
    "def fillPassword(passList,count):\n",
    "    \n",
    "    while passList[-1] == None:\n",
    "        \n",
    "        passList[count]=random.randint(0, 9)\n",
    "        if passList[-1]!=None:\n",
    "            break\n",
    "        else:\n",
    "            count+=1\n",
    "    print(passList)\n",
    "    return passList\n",
    "    "
   ]
  },
  {
   "cell_type": "code",
   "execution_count": 38,
   "id": "c09faebc",
   "metadata": {},
   "outputs": [
    {
     "data": {
      "text/plain": [
       "2"
      ]
     },
     "execution_count": 38,
     "metadata": {},
     "output_type": "execute_result"
    }
   ],
   "source": [
    "import math \n",
    "import random\n",
    "import string\n",
    "\n",
    "# Loading the alphabet to a list\n",
    "caps = list(string.ascii_uppercase)\n",
    "small= list(string.ascii_lowercase)\n",
    "symbols= list(string.punctuation)\n",
    "# print(caps)\n",
    "# print(small)\n",
    "# print(symbols)\n",
    "\n",
    "#creating list with the password length\n",
    "passList= [None]*passLen\n",
    "\n",
    "part= passLen/4\n",
    "part=math.floor(part)\n",
    "part\n",
    "\n",
    "\n"
   ]
  },
  {
   "cell_type": "code",
   "execution_count": 39,
   "id": "6eef0d6a",
   "metadata": {},
   "outputs": [
    {
     "name": "stdout",
     "output_type": "stream",
     "text": [
      "['L', 'X', 'u', 'g', 3, 5, '.', \"'\", None, None]\n"
     ]
    }
   ],
   "source": [
    "count=0\n",
    "#adding caps letters\n",
    "for j in range(part):\n",
    "    passList[count]= random.choice(caps)\n",
    "    count+=1\n",
    "    \n",
    "#adding caps letters\n",
    "for j in range(part):\n",
    "    passList[count]= random.choice(small)\n",
    "    count+=1\n",
    "    \n",
    "#adding random number\n",
    "for j in range(part):\n",
    "    passList[count]= random.randint(0, 9)\n",
    "    count+=1\n",
    "\n",
    "#adding random symbols\n",
    "for j in range(part):\n",
    "    passList[count]= random.choice(symbols)\n",
    "    count+=1\n",
    "print(passList)\n"
   ]
  },
  {
   "cell_type": "code",
   "execution_count": 45,
   "id": "765db64e",
   "metadata": {},
   "outputs": [
    {
     "name": "stdout",
     "output_type": "stream",
     "text": [
      "8 10\n",
      "['g', 5, 9, 'X', 'u', \"'\", 3, 5, '.', 'L']\n"
     ]
    },
    {
     "data": {
      "text/plain": [
       "['X', '.', 3, 'g', 9, 5, 'L', \"'\", 'u', 5]"
      ]
     },
     "execution_count": 45,
     "metadata": {},
     "output_type": "execute_result"
    }
   ],
   "source": [
    "print(count,passLen)\n",
    "if count!= (passLen-1):\n",
    "    passList= fillPassword(passList,count)\n",
    "    \n",
    "random.shuffle(passList)\n",
    "passList"
   ]
  },
  {
   "cell_type": "code",
   "execution_count": 46,
   "id": "f679428e",
   "metadata": {},
   "outputs": [
    {
     "data": {
      "text/plain": [
       "\"X.3g95L'u5\""
      ]
     },
     "execution_count": 46,
     "metadata": {},
     "output_type": "execute_result"
    }
   ],
   "source": [
    "password=''\n",
    "\n",
    "for i in passList:\n",
    "    password+=str(i)\n",
    "\n",
    "password"
   ]
  },
  {
   "cell_type": "code",
   "execution_count": null,
   "id": "b193bc48",
   "metadata": {},
   "outputs": [],
   "source": []
  },
  {
   "cell_type": "code",
   "execution_count": 66,
   "id": "e7a12411",
   "metadata": {},
   "outputs": [
    {
     "data": {
      "text/plain": [
       "<function __main__.<lambda>(i)>"
      ]
     },
     "execution_count": 66,
     "metadata": {},
     "output_type": "execute_result"
    }
   ],
   "source": [
    "\n",
    "    \n",
    "pp=(lambda n,passList[n]: n+'')\n",
    "pp"
   ]
  },
  {
   "cell_type": "code",
   "execution_count": 63,
   "id": "4a21a47b",
   "metadata": {},
   "outputs": [
    {
     "data": {
      "text/plain": [
       "'. h'"
      ]
     },
     "execution_count": 63,
     "metadata": {},
     "output_type": "execute_result"
    }
   ],
   "source": [
    "pp(passList.pop(1))"
   ]
  },
  {
   "cell_type": "code",
   "execution_count": 54,
   "id": "04981149",
   "metadata": {},
   "outputs": [
    {
     "data": {
      "text/plain": [
       "'ff'"
      ]
     },
     "execution_count": 54,
     "metadata": {},
     "output_type": "execute_result"
    }
   ],
   "source": [
    "kk=lambda a : a + 'f'\n",
    "\n",
    "kk('f')"
   ]
  },
  {
   "cell_type": "code",
   "execution_count": 51,
   "id": "6b9a6cf0",
   "metadata": {},
   "outputs": [
    {
     "name": "stdout",
     "output_type": "stream",
     "text": [
      "22\n",
      "33\n"
     ]
    }
   ],
   "source": [
    "print(mydoubler(11))\n",
    "print(mytripler(11))"
   ]
  },
  {
   "cell_type": "code",
   "execution_count": null,
   "id": "64a01595",
   "metadata": {},
   "outputs": [],
   "source": []
  }
 ],
 "metadata": {
  "kernelspec": {
   "display_name": "Python 3",
   "language": "python",
   "name": "python3"
  },
  "language_info": {
   "codemirror_mode": {
    "name": "ipython",
    "version": 3
   },
   "file_extension": ".py",
   "mimetype": "text/x-python",
   "name": "python",
   "nbconvert_exporter": "python",
   "pygments_lexer": "ipython3",
   "version": "3.8.5"
  }
 },
 "nbformat": 4,
 "nbformat_minor": 5
}
