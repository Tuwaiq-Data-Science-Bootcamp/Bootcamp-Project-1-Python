{
 "cells": [
  {
   "cell_type": "code",
   "execution_count": 8,
   "id": "8a5c8998",
   "metadata": {},
   "outputs": [],
   "source": [
    "#week one project  \n",
    "#first we have a dictionarie with students information\n",
    "StudentsDic = {\n",
    "    \n",
    "    \n",
    "       1234: {\n",
    "        \n",
    "        \"Name\": \"Yara\",\n",
    "        \"BirthYear\": 1999,\n",
    "        \"Major\":\"IS\",\n",
    "        \"GPA\":\"4.26\"\n",
    "        \n",
    "    },\n",
    "    \n",
    "        1344: {\n",
    "         \"Name\": \"Sara\",\n",
    "        \"BirthYear\": 2000,\n",
    "        \"Major\":\"MIS\",\n",
    "        \"GPA\":\"2.45\"\n",
    "    },\n",
    "       1164: {\n",
    "         \"Name\": \"Lara\",\n",
    "         \"BirthYear\": 1998,\n",
    "         \"Major\":\"CS\",\n",
    "         \"GPA\":\"3.75\"\n",
    "    }\n",
    " \n",
    "}"
   ]
  },
  {
   "cell_type": "code",
   "execution_count": 10,
   "id": "1d634027",
   "metadata": {},
   "outputs": [
    {
     "name": "stdout",
     "output_type": "stream",
     "text": [
      "Please Enter Student ID1164\n",
      "student info:\n",
      "{'Name': 'Lara', 'BirthYear': 1998, 'Major': 'CS', 'GPA': '3.75'}\n"
     ]
    }
   ],
   "source": [
    "#this take an id from the user and gives all info\n",
    "x = int (input(\"Please Enter Student ID\"))\n",
    "if x in StudentsDic:\n",
    "    print(\"student info:\")\n",
    "    print(StudentsDic[x] )\n",
    "else: \n",
    "    print(\"No Student found\")\n",
    "    \n",
    "\n",
    "            "
   ]
  },
  {
   "cell_type": "code",
   "execution_count": 4,
   "id": "42919362",
   "metadata": {},
   "outputs": [
    {
     "name": "stdout",
     "output_type": "stream",
     "text": [
      "Please Enter Student MajorIS\n",
      "every day from 1 to 4 \n"
     ]
    }
   ],
   "source": [
    "#this LOOP is to give students time table \n",
    "y = input(\"Please Enter Student Major\")\n",
    "while True :\n",
    "    if y == 'CS':\n",
    "        print (\"every day from 6 to 12\")\n",
    "        break;\n",
    "    if y == 'MIS':\n",
    "        print (\"every day from 9 to 12\")\n",
    "        break;\n",
    "    if y == 'IS':\n",
    "        print(\"every day from 1 to 4 \")\n",
    "        break;\n",
    "    else: \n",
    "        (\"invalid major\")\n",
    "        break;"
   ]
  },
  {
   "cell_type": "code",
   "execution_count": null,
   "id": "723b82c7",
   "metadata": {},
   "outputs": [],
   "source": [
    "#function to return majors \n",
    "def major():\n",
    "    majors= \"CS , IS , MIS\"\n",
    "    return major()\n",
    "major()"
   ]
  },
  {
   "cell_type": "code",
   "execution_count": 1,
   "id": "ee13e520",
   "metadata": {},
   "outputs": [
    {
     "name": "stdout",
     "output_type": "stream",
     "text": [
      "2022\n"
     ]
    }
   ],
   "source": [
    "#this lambda created to give back the expextetd grad date \n",
    "gradplan = lambda startdate, trackyear : startdate + trackyear\n",
    "print(gradplan(2017, 5))"
   ]
  },
  {
   "cell_type": "code",
   "execution_count": null,
   "id": "231e7351",
   "metadata": {},
   "outputs": [],
   "source": []
  }
 ],
 "metadata": {
  "kernelspec": {
   "display_name": "Python 3 (ipykernel)",
   "language": "python",
   "name": "python3"
  },
  "language_info": {
   "codemirror_mode": {
    "name": "ipython",
    "version": 3
   },
   "file_extension": ".py",
   "mimetype": "text/x-python",
   "name": "python",
   "nbconvert_exporter": "python",
   "pygments_lexer": "ipython3",
   "version": "3.9.12"
  }
 },
 "nbformat": 4,
 "nbformat_minor": 5
}
