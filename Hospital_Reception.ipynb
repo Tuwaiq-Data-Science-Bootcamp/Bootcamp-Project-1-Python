{
 "cells": [
  {
   "cell_type": "code",
   "execution_count": 2,
   "metadata": {},
   "outputs": [
    {
     "name": "stdout",
     "output_type": "stream",
     "text": [
      "Choose ( 0 - 4 ): \n",
      "#ERROR: Patient Information Must Be Added First\n",
      "Choose ( 0 - 4 ): \n",
      "(yes/no)\n",
      "Choose ( 0 - 4 ): \n",
      " ________________________________________________________________________\n",
      " || Patient's name yaser patient's age 20 patient's gender male ||\n",
      " || the disease allergies ||\n",
      " || duration of Sick Leave 3 days ||\n",
      " ||_________________________________________________________________________\n",
      "Choose ( 0 - 4 ): \n"
     ]
    }
   ],
   "source": [
    "# This function is used to collect patient information\n",
    "def get_patient_information():\n",
    "    patient_information = {'name': str, 'age': int,\n",
    "                           'the disease': str, 'gender': str}\n",
    "    patient_name = input(\"your name: \")\n",
    "    patient_age = input('your age: ')\n",
    "    patient_gender = input('your gender: ')\n",
    "    patient_information.update({'name': patient_name})\n",
    "    patient_information.update({'age': patient_age})\n",
    "    patient_information.update({'gender': patient_gender})\n",
    "    patient_information.update({'the disease': None})\n",
    "    return patient_information\n",
    "\n",
    "\n",
    "# This post is to find out about the disease\n",
    "def get_disease(patient_information):\n",
    "    print(\"(yes/no)\")\n",
    "    if input('Do you feel cold? ').upper() == 'YES':\n",
    "        patient_information.update({'the disease': 'cold'})\n",
    "\n",
    "    elif input('Do you feel allergies? ').upper() == 'YES':\n",
    "        patient_information.update({'the disease': 'allergies'})\n",
    "\n",
    "    elif input('Do you feel diarrhea? ').upper() == 'YES':\n",
    "        patient_information.update({'the disease': 'diarrhea'})\n",
    "\n",
    "    elif input('Do you feel headaches? ').upper() == 'YES':\n",
    "        patient_information.update({'the disease': 'headaches'})\n",
    "\n",
    "    elif input('Do you feel mononucleosis? ').upper() == 'YES':\n",
    "        patient_information.update({'the disease': 'mononucleosis'})\n",
    "\n",
    "    elif input('Do you feel stomach aches? ').upper() == 'YES':\n",
    "        patient_information.update({'the disease ': 'stomach aches'})\n",
    "    else:\n",
    "        print(\"Seems you are alright don't be a baby.\")\n",
    "        patient_information.update({'the disease': None})\n",
    "\n",
    "\n",
    "\n",
    "# This function is to find out the duration of the vacation\n",
    "def get_the_sick_leave(patient_information):\n",
    "    sick_leave_days = input('you can take (1-5) days: ')\n",
    "    #sick_leave_validation = lambda a , b : patient_information.get('the disease') == a or patient_information.get('the disease') == b\n",
    "    sick_leave_validation = lambda a , b : patient_information.get('the disease') == a or patient_information.get('the disease') == b\n",
    "    if sick_leave_validation('cold',None):\n",
    "        print('Sorry, you don\\'t need a Sick Leave, your disease is not worth of Sick Leave.')\n",
    "    else:\n",
    "        print(' ________________________________________________________________________\\n',\n",
    "        '|| Patient\\'s name', patient_information.get('name') , 'patient\\'s age', patient_information.get('age'), 'patient\\'s gender', patient_information.get('gender'),'||\\n', \n",
    "        '|| the disease', patient_information.get('the disease'),'||\\n',\n",
    "        '|| duration of Sick Leave', sick_leave_days, 'days ||\\n',\n",
    "        '||______________________________________________________________________')\n",
    "\n",
    "\n",
    "patient = None\n",
    "while True:\n",
    "    print(\"Choose ( 0 - 4 ): \")\n",
    "    reception = input(\n",
    "        '1: Add/Update Informations || 2: Detect Disease || 3: Sick Leave || 4: View Profile || 0: Exit \\n')\n",
    "    if patient is None and (reception == '2' or reception == '3' or reception == '4'):\n",
    "        print(\"#ERROR: Patient Information Must Be Added First\")\n",
    "        patient = get_patient_information()\n",
    "    elif reception == '1':\n",
    "        patient = get_patient_information()\n",
    "    elif reception == '2':\n",
    "        get_disease(patient)\n",
    "    elif reception == '3':\n",
    "        get_the_sick_leave(patient)\n",
    "    elif reception == '4':\n",
    "        print(patient)\n",
    "    elif reception == '0':\n",
    "        print('Have a good day :D')\n",
    "        break\n",
    "    else:\n",
    "        print('Sorry, Invalid Input.')\n"
   ]
  },
  {
   "cell_type": "code",
   "execution_count": null,
   "metadata": {},
   "outputs": [],
   "source": []
  }
 ],
 "metadata": {
  "kernelspec": {
   "display_name": "Python 3.10.5 64-bit",
   "language": "python",
   "name": "python3"
  },
  "language_info": {
   "codemirror_mode": {
    "name": "ipython",
    "version": 3
   },
   "file_extension": ".py",
   "mimetype": "text/x-python",
   "name": "python",
   "nbconvert_exporter": "python",
   "pygments_lexer": "ipython3",
   "version": "3.10.5"
  },
  "orig_nbformat": 4,
  "vscode": {
   "interpreter": {
    "hash": "37790ba2a09019fe53a2f1d81386b9ad2e2158e92ef42af577a5cadc6d647896"
   }
  }
 },
 "nbformat": 4,
 "nbformat_minor": 2
}
