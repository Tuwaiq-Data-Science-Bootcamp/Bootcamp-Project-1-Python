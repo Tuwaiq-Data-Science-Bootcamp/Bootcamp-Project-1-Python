{
 "cells": [
  {
   "cell_type": "code",
   "execution_count": 1,
   "metadata": {},
   "outputs": [],
   "source": [
    "import random\n",
    "import array"
   ]
  },
  {
   "cell_type": "code",
   "execution_count": 2,
   "metadata": {},
   "outputs": [
    {
     "name": "stdout",
     "output_type": "stream",
     "text": [
      "Enter Your Password:10\n",
      "#:ynNAV2Ti\n"
     ]
    }
   ],
   "source": [
    "def Check():\n",
    "    while True:\n",
    "        \n",
    "        try:\n",
    "            MAX_LEN = int(input(\"Enter Your Password:\"))\n",
    "            break\n",
    "        except:\n",
    "            print(\"Enter Numeric Digit\")\n",
    "    return MAX_LEN\n",
    "\n",
    "Add_capital = lambda UPCASE_CHARACTERS : random.choice(UPCASE_CHARACTERS)\n",
    "add_Digit =lambda DIGITS : random.choice(DIGITS)\n",
    "add_lowe=lambda LOCASE_CHARACTERS : random.choice(LOCASE_CHARACTERS)\n",
    "add_symbol=lambda SYMBOLS : random.choice(SYMBOLS)\n",
    "\n",
    "\n",
    "def gen_pass():\n",
    "    MAX_LEN =Check()\n",
    "     \n",
    "    \n",
    "    DIGITS = ['0', '1', '2', '3', '4', '5', '6', '7', '8', '9'] \n",
    "    LOCASE_CHARACTERS = ['a', 'b', 'c', 'd', 'e', 'f', 'g', 'h',\n",
    "                        'i', 'j', 'k', 'm', 'n', 'o', 'p', 'q',\n",
    "                        'r', 's', 't', 'u', 'v', 'w', 'x', 'y',\n",
    "                        'z']\n",
    "    \n",
    "    UPCASE_CHARACTERS = ['A', 'B', 'C', 'D', 'E', 'F', 'G', 'H',\n",
    "                        'I', 'J', 'K', 'M', 'N', 'O', 'P', 'Q',\n",
    "                        'R', 'S', 'T', 'U', 'V', 'W', 'X', 'Y',\n",
    "                        'Z']\n",
    "    \n",
    "    SYMBOLS = ['@', '#', '$', '%', '=', ':', '?', '.', '/', '|', '~', '>',\n",
    "            '*', '(', ')', '<']\n",
    "    \n",
    "    COMBINED_LIST = DIGITS + UPCASE_CHARACTERS + LOCASE_CHARACTERS + SYMBOLS\n",
    "    \n",
    "    rand_digit = add_Digit(DIGITS)\n",
    "    rand_upper = Add_capital(UPCASE_CHARACTERS)\n",
    "    rand_lower = add_lowe(LOCASE_CHARACTERS)\n",
    "    rand_symbol = add_symbol(SYMBOLS)\n",
    "    temp_pass = rand_digit + rand_upper + rand_lower + rand_symbol\n",
    "    \n",
    "    for x in range(MAX_LEN - 4):\n",
    "        temp_pass = temp_pass + random.choice(COMBINED_LIST)\n",
    "        temp_pass_list = array.array('u', temp_pass)\n",
    "        random.shuffle(temp_pass_list)\n",
    "     \n",
    "    \n",
    "    password = \"\"\n",
    "    for x in temp_pass_list:password = password + x\n",
    "            \n",
    "    \n",
    "    return password\n",
    "print(gen_pass())"
   ]
  },
  {
   "cell_type": "code",
   "execution_count": null,
   "metadata": {},
   "outputs": [],
   "source": []
  }
 ],
 "metadata": {
  "kernelspec": {
   "display_name": "Python 3",
   "language": "python",
   "name": "python3"
  },
  "language_info": {
   "codemirror_mode": {
    "name": "ipython",
    "version": 3
   },
   "file_extension": ".py",
   "mimetype": "text/x-python",
   "name": "python",
   "nbconvert_exporter": "python",
   "pygments_lexer": "ipython3",
   "version": "3.7.1"
  }
 },
 "nbformat": 4,
 "nbformat_minor": 2
}
