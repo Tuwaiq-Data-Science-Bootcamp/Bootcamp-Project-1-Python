{
 "cells": [
  {
   "cell_type": "code",
   "execution_count": 44,
   "id": "208e179b",
   "metadata": {},
   "outputs": [],
   "source": [
    "import random"
   ]
  },
  {
   "cell_type": "code",
   "execution_count": 45,
   "id": "aa269a66",
   "metadata": {},
   "outputs": [],
   "source": [
    "lst = [\"rock\",\"paper\",\"scissors\"]"
   ]
  },
  {
   "cell_type": "code",
   "execution_count": 58,
   "id": "4f5816a1",
   "metadata": {},
   "outputs": [
    {
     "name": "stdout",
     "output_type": "stream",
     "text": [
      "Enter your choice Rock,Paper,Scissors or q for quit : rock\n",
      "Computer picked :  rock\n",
      "Both players selected rock. It's a tie!\n",
      "Enter your choice Rock,Paper,Scissors or q for quit : paper\n",
      "Computer picked :  rock\n",
      "You Win\n",
      "Enter your choice Rock,Paper,Scissors or q for quit : scissors\n",
      "Computer picked :  rock\n",
      " you Lost\n",
      "Enter your choice Rock,Paper,Scissors or q for quit : scisoors\n",
      "inlived input\n",
      "Enter your choice Rock,Paper,Scissors or q for quit : rock\n",
      "Computer picked :  rock\n",
      "Both players selected rock. It's a tie!\n",
      "Enter your choice Rock,Paper,Scissors or q for quit : paper\n",
      "Computer picked :  rock\n",
      "You Win\n",
      "Enter your choice Rock,Paper,Scissors or q for quit : rock\n",
      "Computer picked :  rock\n",
      "Both players selected rock. It's a tie!\n",
      "Enter your choice Rock,Paper,Scissors or q for quit : q\n",
      "You Won 5\n",
      "Computer Won 4\n",
      ":)\n"
     ]
    }
   ],
   "source": [
    "userWin = 0 \n",
    "comWin = 0 \n",
    "while True : \n",
    "    userInput = input(\"Enter your choice \"\"Rock,Paper,Scissors\"\" or q for quit : \" ).lower()\n",
    "    if userInput == \"q\" : \n",
    "        break \n",
    "    if userInput not in lst : \n",
    "        print(\"inlived input\")\n",
    "        continue \n",
    "     \n",
    "    def compuSelection(C):\n",
    "        randomNum = random.randint(0,2)\n",
    "        comChoice = lst[randomNum]\n",
    "        return lambda v : comChoice\n",
    "\n",
    "    compuSelection(print(\"Computer picked : \", comChoice))\n",
    "    \n",
    "    if (userInput == \"rock\" and comChoice == \"scissors\") : \n",
    "        print (\"You Win\")\n",
    "        userWin += 1  \n",
    "    elif (userInput == \"paper\" and comChoice == \"rock\") : \n",
    "        print (\"You Win\")\n",
    "        userWin += 1  \n",
    "    elif (userInput == \"scissors\" and comChoice == \"paper\") : \n",
    "        print (\"You Win\")\n",
    "        userWin += 1\n",
    "    elif (userInput == comChoice):\n",
    "        print(f\"Both players selected {userInput}. It's a tie!\")\n",
    "        userWin += 1\n",
    "        comWin += 1 \n",
    "    else : \n",
    "        print(\" you Lost\")\n",
    "        comWin += 1 \n",
    "      \n",
    "    \n",
    "print(\"You Won\",userWin)\n",
    "print(\"Computer Won\", comWin)\n",
    "print (\":)\")"
   ]
  }
 ],
 "metadata": {
  "kernelspec": {
   "display_name": "Python 3 (ipykernel)",
   "language": "python",
   "name": "python3"
  },
  "language_info": {
   "codemirror_mode": {
    "name": "ipython",
    "version": 3
   },
   "file_extension": ".py",
   "mimetype": "text/x-python",
   "name": "python",
   "nbconvert_exporter": "python",
   "pygments_lexer": "ipython3",
   "version": "3.9.13"
  }
 },
 "nbformat": 4,
 "nbformat_minor": 5
}
