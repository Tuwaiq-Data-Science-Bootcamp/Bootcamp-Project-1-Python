{
 "cells": [
  {
   "cell_type": "code",
   "execution_count": 15,
   "id": "bb5e27a9",
   "metadata": {},
   "outputs": [
    {
     "name": "stdout",
     "output_type": "stream",
     "text": [
      "please enter password length:6\n",
      "ZJ36@f\n"
     ]
    }
   ],
   "source": [
    "import random\n",
    "import array\n",
    "MAX_LEN = 20\n",
    "DIGITS = ['0', '1', '2', '3', '4', '5', '6', '7', '8', '9']\n",
    "\n",
    "LOCASE_CHARACTERS = ['a', 'b', 'c', 'd', 'e', 'f', 'g', 'h',\n",
    "                     'i', 'j', 'k', 'm', 'n', 'o', 'p', 'q',\n",
    "                     'r', 's', 't', 'u', 'v', 'w', 'x', 'y', 'z']\n",
    "\n",
    "UPCASE_CHARACTERS = ['A', 'B', 'C', 'D', 'E', 'F', 'G', 'H',\n",
    "                     'I', 'J', 'K', 'M', 'N', 'O', 'P', 'Q',\n",
    "                     'R', 'S', 'T', 'U', 'V', 'W', 'X', 'Y','Z']\n",
    "\n",
    "SYMBOLS = ['@', '#', '$', '%', '=', ':', '?', '.', '/', '|', '~', '>', '*', '(', ')', '<']\n",
    "\n",
    "COMBINED_LIST = DIGITS + UPCASE_CHARACTERS + LOCASE_CHARACTERS + SYMBOLS\n",
    "\n",
    "passwordLin = int(input(\"please enter password length:\"))  \n",
    "\n",
    "rand_digit = random.choice(DIGITS)\n",
    "rand_upper = random.choice(UPCASE_CHARACTERS)\n",
    "rand_lower = random.choice(LOCASE_CHARACTERS)\n",
    "rand_symbol = random.choice(SYMBOLS)\n",
    "temp_pass = rand_digit + rand_upper + rand_lower + rand_symbol\n",
    "for x in range(passwordLin - 4):\n",
    "    temp_pass = temp_pass + random.choice(COMBINED_LIST)\n",
    "    temp_pass_list = array.array('u', temp_pass)\n",
    "    random.shuffle(temp_pass_list)\n",
    "password = \"\"\n",
    "for x in temp_pass_list:\n",
    "    password = password + x\n",
    "    \n",
    "print(password)"
   ]
  },
  {
   "cell_type": "code",
   "execution_count": null,
   "id": "92d8c6c6",
   "metadata": {},
   "outputs": [],
   "source": []
  }
 ],
 "metadata": {
  "kernelspec": {
   "display_name": "Python 3 (ipykernel)",
   "language": "python",
   "name": "python3"
  },
  "language_info": {
   "codemirror_mode": {
    "name": "ipython",
    "version": 3
   },
   "file_extension": ".py",
   "mimetype": "text/x-python",
   "name": "python",
   "nbconvert_exporter": "python",
   "pygments_lexer": "ipython3",
   "version": "3.9.15"
  }
 },
 "nbformat": 4,
 "nbformat_minor": 5
}
