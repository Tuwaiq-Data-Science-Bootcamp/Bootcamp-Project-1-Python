{
 "cells": [
  {
   "cell_type": "markdown",
   "id": "789606a6",
   "metadata": {},
   "source": [
    "- Use at least 3 different data types. [Done]\n",
    "- Use lists or dictionaries or tuples or sets. [Done]\n",
    "- Use loops. [Done]\n",
    "- Use functions that return an output. [Done]\n",
    "- Use conditions. [Done]\n",
    "- Use a Lambda function. [Done]"
   ]
  },
  {
   "cell_type": "markdown",
   "id": "8e84a058",
   "metadata": {},
   "source": [
    "## Asking and validating the password length"
   ]
  },
  {
   "cell_type": "code",
   "execution_count": 2,
   "id": "cc322bf9",
   "metadata": {},
   "outputs": [
    {
     "name": "stdout",
     "output_type": "stream",
     "text": [
      "What Length You Want For Your Password?\n",
      " shahad\n",
      "Please Only Enter Numbers\n",
      "\n",
      "What Length You Want For Your Password?\n",
      " 3\n",
      "The Password Length Should be More Than 6 Characters\n",
      "\n",
      "What Length You Want For Your Password?\n",
      " 16\n"
     ]
    }
   ],
   "source": [
    "while True:\n",
    "    passLen= input(\"What Length You Want For Your Password?\\n \")\n",
    "    if not passLen.isdigit():\n",
    "        print('Please Only Enter Numbers\\n')\n",
    "    elif int(passLen) <6:\n",
    "        print('The Password Length Should be More Than 6 Characters\\n')\n",
    "    else:\n",
    "        break\n",
    "passLen=int(passLen)"
   ]
  },
  {
   "cell_type": "code",
   "execution_count": 3,
   "id": "e75ed53d",
   "metadata": {},
   "outputs": [],
   "source": [
    "def fillPassword(passList,count):\n",
    "    \n",
    "    while passList[-1] == None:\n",
    "        \n",
    "        passList[count]=random.randint(0, 9)\n",
    "        if passList[-1]!=None:\n",
    "            break\n",
    "        else:\n",
    "            count+=1\n",
    "    return passList\n",
    "    "
   ]
  },
  {
   "cell_type": "markdown",
   "id": "235db303",
   "metadata": {},
   "source": [
    "## Creating \n",
    "- letters list\n",
    "- numbers list\n",
    "- symbols list"
   ]
  },
  {
   "cell_type": "code",
   "execution_count": 4,
   "id": "f8f718dc",
   "metadata": {},
   "outputs": [
    {
     "data": {
      "text/plain": [
       "4"
      ]
     },
     "execution_count": 4,
     "metadata": {},
     "output_type": "execute_result"
    }
   ],
   "source": [
    "import math \n",
    "import random\n",
    "import string\n",
    "\n",
    "# Loading the alphabet to a list\n",
    "caps = list(string.ascii_uppercase)\n",
    "small= list(string.ascii_lowercase)\n",
    "# symbols= list(string.punctuation)\n",
    "symbols= ['@','£','#','&','-','$','_']\n",
    "\n",
    "\n",
    "\n",
    "#creating list with the password length\n",
    "passList= [None]*passLen\n",
    "\n",
    "#dviding the parts\n",
    "part= passLen/4\n",
    "part=math.floor(part)\n",
    "part\n",
    "\n",
    "\n"
   ]
  },
  {
   "cell_type": "markdown",
   "id": "0e77deef",
   "metadata": {},
   "source": [
    "# Creating the Password"
   ]
  },
  {
   "cell_type": "code",
   "execution_count": 5,
   "id": "638e4ede",
   "metadata": {},
   "outputs": [],
   "source": [
    "count=0\n",
    "#adding caps letters to the password list\n",
    "for j in range(part):\n",
    "    passList[count]= random.choice(caps)\n",
    "    count+=1\n",
    "    \n",
    "#adding small letters to the password list\n",
    "for j in range(part):\n",
    "    passList[count]= random.choice(small)\n",
    "    count+=1\n",
    "    \n",
    "#adding random number to the password list\n",
    "for j in range(part):\n",
    "    passList[count]= random.randint(0, 9)\n",
    "    count+=1\n",
    "\n",
    "#adding random symbols to the password list\n",
    "for j in range(part):\n",
    "    passList[count]= random.choice(symbols)\n",
    "    count+=1\n"
   ]
  },
  {
   "cell_type": "markdown",
   "id": "7ba1eff9",
   "metadata": {},
   "source": [
    "## Filling the Nones and Shuffle the password list"
   ]
  },
  {
   "cell_type": "code",
   "execution_count": 8,
   "id": "17df28a6",
   "metadata": {},
   "outputs": [
    {
     "data": {
      "text/plain": [
       "['p', 'K', '@', 'e', 5, 'P', 'R', 'r', 2, '$', 6, '_', 'T', 0, '#', 'b']"
      ]
     },
     "execution_count": 8,
     "metadata": {},
     "output_type": "execute_result"
    }
   ],
   "source": [
    "if count!= (passLen-1):\n",
    "    passList= fillPassword(passList,count)\n",
    "    \n",
    "random.shuffle(passList)\n",
    "passList"
   ]
  },
  {
   "cell_type": "markdown",
   "id": "dc361bd1",
   "metadata": {},
   "source": [
    "## Convert the list into String"
   ]
  },
  {
   "cell_type": "code",
   "execution_count": 9,
   "id": "d6fa5e4f",
   "metadata": {},
   "outputs": [
    {
     "name": "stdout",
     "output_type": "stream",
     "text": [
      " your Password is:\n",
      "\n",
      " pK@e5PRr2$6_T0#b\n"
     ]
    }
   ],
   "source": [
    "password=''\n",
    "\n",
    "for i in range(passLen): \n",
    "    pp=(lambda i, passList: str(passList[i])+'')\n",
    "    password+=pp(i,passList)\n",
    "print(' your Password is:\\n\\n',password )"
   ]
  },
  {
   "cell_type": "markdown",
   "id": "c18b7625",
   "metadata": {},
   "source": [
    "# ^_^"
   ]
  }
 ],
 "metadata": {
  "kernelspec": {
   "display_name": "Python 3",
   "language": "python",
   "name": "python3"
  },
  "language_info": {
   "codemirror_mode": {
    "name": "ipython",
    "version": 3
   },
   "file_extension": ".py",
   "mimetype": "text/x-python",
   "name": "python",
   "nbconvert_exporter": "python",
   "pygments_lexer": "ipython3",
   "version": "3.8.5"
  }
 },
 "nbformat": 4,
 "nbformat_minor": 5
}
