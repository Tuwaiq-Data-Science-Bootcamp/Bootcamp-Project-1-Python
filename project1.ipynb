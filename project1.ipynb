{
 "cells": [
  {
   "cell_type": "markdown",
   "id": "fe7eaae2",
   "metadata": {},
   "source": [
    "- Use at least 3 different data types. [Done]\n",
    "- Use lists or dictionaries or tuples or sets. [Done]\n",
    "- Use loops. [Done]\n",
    "- Use functions that return an output. [Done]\n",
    "- Use conditions. [Done]\n",
    "- Use a Lambda function. [Done]"
   ]
  },
  {
   "cell_type": "markdown",
   "id": "ed536c5e",
   "metadata": {},
   "source": [
    "## Asking and validating the password length"
   ]
  },
  {
   "cell_type": "code",
   "execution_count": 2,
   "id": "fb630e6c",
   "metadata": {},
   "outputs": [
    {
     "name": "stdout",
     "output_type": "stream",
     "text": [
      "What Length You Want For Your Password?\n",
      " shahad\n",
      "Please Only Enter Numbers\n",
      "\n",
      "What Length You Want For Your Password?\n",
      " 3\n",
      "The Password Length Should be More Than 6 Characters\n",
      "\n",
      "What Length You Want For Your Password?\n",
      " 16\n"
     ]
    }
   ],
   "source": [
    "while True:\n",
    "    passLen= input(\"What Length You Want For Your Password?\\n \")\n",
    "    if not passLen.isdigit():\n",
    "        print('Please Only Enter Numbers\\n')\n",
    "    elif int(passLen) <6:\n",
    "        print('The Password Length Should be More Than 6 Characters\\n')\n",
    "    else:\n",
    "        break\n",
    "passLen=int(passLen)"
   ]
  },
  {
   "cell_type": "code",
   "execution_count": 3,
   "id": "1249f6a1",
   "metadata": {},
   "outputs": [],
   "source": [
    "def fillPassword(passList,count):\n",
    "    \n",
    "    while passList[-1] == None:\n",
    "        \n",
    "        passList[count]=random.randint(0, 9)\n",
    "        if passList[-1]!=None:\n",
    "            break\n",
    "        else:\n",
    "            count+=1\n",
    "    return passList\n",
    "    "
   ]
  },
  {
   "cell_type": "markdown",
   "id": "6ae518b6",
   "metadata": {},
   "source": [
    "## Creating \n",
    "- letters list\n",
    "- numbers list\n",
    "- symbols list"
   ]
  },
  {
   "cell_type": "code",
   "execution_count": 4,
   "id": "591f3db2",
   "metadata": {},
   "outputs": [
    {
     "data": {
      "text/plain": [
       "4"
      ]
     },
     "execution_count": 4,
     "metadata": {},
     "output_type": "execute_result"
    }
   ],
   "source": [
    "import math \n",
    "import random\n",
    "import string\n",
    "\n",
    "# Loading the alphabet to a list\n",
    "caps = list(string.ascii_uppercase)\n",
    "small= list(string.ascii_lowercase)\n",
    "# symbols= list(string.punctuation)\n",
    "symbols= ['@','£','#','&','-','$','_']\n",
    "\n",
    "\n",
    "\n",
    "#creating list with the password length\n",
    "passList= [None]*passLen\n",
    "\n",
    "#dviding the parts\n",
    "part= passLen/4\n",
    "part=math.floor(part)\n",
    "part\n",
    "\n",
    "\n"
   ]
  },
  {
   "cell_type": "markdown",
   "id": "562efb64",
   "metadata": {},
   "source": [
    "# Creating the Password"
   ]
  },
  {
   "cell_type": "code",
   "execution_count": 5,
   "id": "104dd7a3",
   "metadata": {},
   "outputs": [],
   "source": [
    "count=0\n",
    "#adding caps letters to the password list\n",
    "for j in range(part):\n",
    "    passList[count]= random.choice(caps)\n",
    "    count+=1\n",
    "    \n",
    "#adding small letters to the password list\n",
    "for j in range(part):\n",
    "    passList[count]= random.choice(small)\n",
    "    count+=1\n",
    "    \n",
    "#adding random number to the password list\n",
    "for j in range(part):\n",
    "    passList[count]= random.randint(0, 9)\n",
    "    count+=1\n",
    "\n",
    "#adding random symbols to the password list\n",
    "for j in range(part):\n",
    "    passList[count]= random.choice(symbols)\n",
    "    count+=1\n"
   ]
  },
  {
   "cell_type": "markdown",
   "id": "2f6fa78c",
   "metadata": {},
   "source": [
    "## Filling the Nones and Shuffle the password list"
   ]
  },
  {
   "cell_type": "code",
   "execution_count": 6,
   "id": "8d8958b5",
   "metadata": {},
   "outputs": [
    {
     "data": {
      "text/plain": [
       "[8, 'B', 'A', 'X', 'b', 8, '_', 'Q', '@', '-', 2, 1, 'a', 'c', '&', 'b']"
      ]
     },
     "execution_count": 6,
     "metadata": {},
     "output_type": "execute_result"
    }
   ],
   "source": [
    "if count!= (passLen-1):\n",
    "    passList= fillPassword(passList,count)\n",
    "    \n",
    "random.shuffle(passList)\n",
    "passList"
   ]
  },
  {
   "cell_type": "markdown",
   "id": "913786c2",
   "metadata": {},
   "source": [
    "## Convert the list into String"
   ]
  },
  {
   "cell_type": "code",
   "execution_count": 7,
   "id": "0dcdd415",
   "metadata": {},
   "outputs": [
    {
     "name": "stdout",
     "output_type": "stream",
     "text": [
      " your Password is:\n",
      "\n",
      " 8BAXb8_Q@-21ac&b\n"
     ]
    }
   ],
   "source": [
    "password=''\n",
    "\n",
    "for i in range(passLen): \n",
    "    pp=(lambda i, passList: str(passList[i])+'')\n",
    "    password+=pp(i,passList)\n",
    "print(' your Password is:\\n\\n',password )"
   ]
  },
  {
   "cell_type": "markdown",
   "id": "c22f7423",
   "metadata": {},
   "source": [
    "# ^_^"
   ]
  }
 ],
 "metadata": {
  "kernelspec": {
   "display_name": "Python 3",
   "language": "python",
   "name": "python3"
  },
  "language_info": {
   "codemirror_mode": {
    "name": "ipython",
    "version": 3
   },
   "file_extension": ".py",
   "mimetype": "text/x-python",
   "name": "python",
   "nbconvert_exporter": "python",
   "pygments_lexer": "ipython3",
   "version": "3.8.5"
  }
 },
 "nbformat": 4,
 "nbformat_minor": 5
}
